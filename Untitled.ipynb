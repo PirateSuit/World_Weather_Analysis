{
 "cells": [
  {
   "cell_type": "code",
   "execution_count": 1,
   "id": "367239c0",
   "metadata": {},
   "outputs": [
    {
     "name": "stdout",
     "output_type": "stream",
     "text": [
      "Requirement already satisfied: jupyter in /opt/anaconda3/lib/python3.8/site-packages (1.0.0)\n",
      "\u001b[31mERROR: Could not find a version that satisfies the requirement themes\u001b[0m\n",
      "\u001b[31mERROR: No matching distribution found for themes\u001b[0m\n",
      "Note: you may need to restart the kernel to use updated packages.\n"
     ]
    }
   ],
   "source": [
    "pip install jupyter themes"
   ]
  },
  {
   "cell_type": "code",
   "execution_count": 2,
   "id": "4319854d",
   "metadata": {},
   "outputs": [
    {
     "name": "stdout",
     "output_type": "stream",
     "text": [
      "Requirement already satisfied: jupyter in /opt/anaconda3/lib/python3.8/site-packages (1.0.0)\n",
      "\u001b[31mERROR: Could not find a version that satisfies the requirement themes\u001b[0m\n",
      "\u001b[31mERROR: No matching distribution found for themes\u001b[0m\n",
      "Note: you may need to restart the kernel to use updated packages.\n"
     ]
    }
   ],
   "source": [
    "pip install --upgrade jupyter themes"
   ]
  },
  {
   "cell_type": "code",
   "execution_count": null,
   "id": "91424941",
   "metadata": {},
   "outputs": [],
   "source": []
  }
 ],
 "metadata": {
  "kernelspec": {
   "display_name": "PythonData",
   "language": "python",
   "name": "pythondata"
  },
  "language_info": {
   "codemirror_mode": {
    "name": "ipython",
    "version": 3
   },
   "file_extension": ".py",
   "mimetype": "text/x-python",
   "name": "python",
   "nbconvert_exporter": "python",
   "pygments_lexer": "ipython3",
   "version": "3.8.8"
  }
 },
 "nbformat": 4,
 "nbformat_minor": 5
}
